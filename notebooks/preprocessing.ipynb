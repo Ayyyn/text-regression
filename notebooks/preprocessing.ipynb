{
 "cells": [
  {
   "cell_type": "code",
   "execution_count": 3,
   "metadata": {},
   "outputs": [],
   "source": [
    "import pandas as pd"
   ]
  },
  {
   "cell_type": "code",
   "execution_count": 4,
   "metadata": {},
   "outputs": [],
   "source": [
    "train_df=pd.read_csv('../dataset/train.csv')\n",
    "test_df=pd.read_csv('../dataset/test.csv')"
   ]
  },
  {
   "cell_type": "code",
   "execution_count": 5,
   "metadata": {},
   "outputs": [],
   "source": [
    "#remove the rows that have same value in the DESCRIPTION,TITLE,PRODUCT_TYPE_ID,BULLET_POINTS,PRODUCT_LENGTH columns\n",
    "train_df.drop_duplicates(subset=['DESCRIPTION','TITLE','PRODUCT_TYPE_ID','BULLET_POINTS','PRODUCT_LENGTH'],keep='first',inplace=True)\n",
    "test_df.drop_duplicates(subset=['DESCRIPTION','TITLE','PRODUCT_TYPE_ID','BULLET_POINTS'],keep='first',inplace=True)"
   ]
  },
  {
   "cell_type": "markdown",
   "metadata": {},
   "source": [
    "#### Combine the content of all 3 text colunms into a single column for training preprocessing"
   ]
  },
  {
   "cell_type": "code",
   "execution_count": 6,
   "metadata": {},
   "outputs": [],
   "source": [
    "train_df['text']=train_df['TITLE'].astype(str)+' '+train_df['DESCRIPTION'].astype(str)+' '+train_df['BULLET_POINTS'].astype(str)\n",
    "test_df['text']=test_df['TITLE'].astype(str)+' '+test_df['DESCRIPTION'].astype(str)+' '+test_df['BULLET_POINTS'].astype(str)"
   ]
  },
  {
   "cell_type": "code",
   "execution_count": 7,
   "metadata": {},
   "outputs": [],
   "source": [
    "#drop the 3 object columns\n",
    "df1=train_df.drop(['TITLE','DESCRIPTION','BULLET_POINTS','PRODUCT_TYPE_ID'],axis=1,inplace=False)\n",
    "df2=test_df.drop(['TITLE','DESCRIPTION','BULLET_POINTS','PRODUCT_TYPE_ID'],axis=1,inplace=False)"
   ]
  },
  {
   "cell_type": "code",
   "execution_count": 8,
   "metadata": {},
   "outputs": [
    {
     "data": {
      "text/plain": [
       "PRODUCT_ID          int64\n",
       "PRODUCT_LENGTH    float64\n",
       "text               object\n",
       "dtype: object"
      ]
     },
     "metadata": {},
     "output_type": "display_data"
    },
    {
     "data": {
      "text/plain": [
       "PRODUCT_ID     int64\n",
       "text          object\n",
       "dtype: object"
      ]
     },
     "metadata": {},
     "output_type": "display_data"
    }
   ],
   "source": [
    "display(df1.dtypes)\n",
    "display(df2.dtypes)"
   ]
  },
  {
   "cell_type": "markdown",
   "metadata": {},
   "source": [
    "##### Save new train and test files for model"
   ]
  },
  {
   "cell_type": "code",
   "execution_count": 9,
   "metadata": {},
   "outputs": [],
   "source": [
    "#preprocess data to use to tune a bert model\n",
    "df1.to_csv('../dataset/train_processed.csv',index=False)\n",
    "df2.to_csv('../dataset/test_processed.csv',index=False)"
   ]
  }
 ],
 "metadata": {
  "kernelspec": {
   "display_name": "Python 3.10.5 64-bit",
   "language": "python",
   "name": "python3"
  },
  "language_info": {
   "codemirror_mode": {
    "name": "ipython",
    "version": 3
   },
   "file_extension": ".py",
   "mimetype": "text/x-python",
   "name": "python",
   "nbconvert_exporter": "python",
   "pygments_lexer": "ipython3",
   "version": "3.10.5"
  },
  "orig_nbformat": 4,
  "vscode": {
   "interpreter": {
    "hash": "213524bb45a1aeaf737b1d8c77d7b8db5d425938d9dffc5f4bc6fe6dd3324700"
   }
  }
 },
 "nbformat": 4,
 "nbformat_minor": 2
}
