{
 "cells": [
  {
   "cell_type": "code",
   "execution_count": 2,
   "metadata": {},
   "outputs": [],
   "source": [
    "#use an autoKeras model for text regression\n",
    "import autokeras as ak\n",
    "import pandas as pd\n",
    "import numpy as np\n",
    "import tensorflow as tf\n",
    "from sklearn.model_selection import train_test_split\n",
    "from sklearn.metrics import mean_squared_error"
   ]
  },
  {
   "cell_type": "code",
   "execution_count": 3,
   "metadata": {},
   "outputs": [],
   "source": [
    "#load the data\n",
    "df = pd.read_csv('../dataset/train_processed.csv')"
   ]
  },
  {
   "cell_type": "code",
   "execution_count": 4,
   "metadata": {},
   "outputs": [],
   "source": [
    "#drop product_type_id column and store in a new dataframe called train_df\n",
    "train_df = df.drop(['PRODUCT_TYPE_ID'], axis=1)"
   ]
  },
  {
   "cell_type": "code",
   "execution_count": 5,
   "metadata": {},
   "outputs": [
    {
     "data": {
      "text/html": [
       "<div>\n",
       "<style scoped>\n",
       "    .dataframe tbody tr th:only-of-type {\n",
       "        vertical-align: middle;\n",
       "    }\n",
       "\n",
       "    .dataframe tbody tr th {\n",
       "        vertical-align: top;\n",
       "    }\n",
       "\n",
       "    .dataframe thead th {\n",
       "        text-align: right;\n",
       "    }\n",
       "</style>\n",
       "<table border=\"1\" class=\"dataframe\">\n",
       "  <thead>\n",
       "    <tr style=\"text-align: right;\">\n",
       "      <th></th>\n",
       "      <th>PRODUCT_LENGTH</th>\n",
       "      <th>text</th>\n",
       "    </tr>\n",
       "  </thead>\n",
       "  <tbody>\n",
       "    <tr>\n",
       "      <th>0</th>\n",
       "      <td>2125.980000</td>\n",
       "      <td>ArtzFolio Tulip Flowers Blackout Curtain for D...</td>\n",
       "    </tr>\n",
       "    <tr>\n",
       "      <th>1</th>\n",
       "      <td>393.700000</td>\n",
       "      <td>Marks &amp; Spencer Girls' Pyjama Sets T86_2561C_N...</td>\n",
       "    </tr>\n",
       "    <tr>\n",
       "      <th>2</th>\n",
       "      <td>748.031495</td>\n",
       "      <td>PRIKNIK Horn Red Electric Air Horn Compressor ...</td>\n",
       "    </tr>\n",
       "    <tr>\n",
       "      <th>3</th>\n",
       "      <td>787.401574</td>\n",
       "      <td>ALISHAH Women's Cotton Ankle Length Leggings C...</td>\n",
       "    </tr>\n",
       "    <tr>\n",
       "      <th>4</th>\n",
       "      <td>598.424000</td>\n",
       "      <td>The United Empire Loyalists: A Chronicle of th...</td>\n",
       "    </tr>\n",
       "    <tr>\n",
       "      <th>...</th>\n",
       "      <td>...</td>\n",
       "      <td>...</td>\n",
       "    </tr>\n",
       "    <tr>\n",
       "      <th>2233064</th>\n",
       "      <td>1181.100000</td>\n",
       "      <td>Nike Women's As W Ny Df Swsh Hn Kh Bra (CZ7610...</td>\n",
       "    </tr>\n",
       "    <tr>\n",
       "      <th>2233065</th>\n",
       "      <td>125.984252</td>\n",
       "      <td>(3PCS) Goose Game Cute Cartoon Enamel Pins, Fu...</td>\n",
       "    </tr>\n",
       "    <tr>\n",
       "      <th>2233066</th>\n",
       "      <td>1200.000000</td>\n",
       "      <td>Kangroo Sweep Movement Printed Wooden Wall Clo...</td>\n",
       "    </tr>\n",
       "    <tr>\n",
       "      <th>2233067</th>\n",
       "      <td>2900.000000</td>\n",
       "      <td>Electro Voice EKX-BRKT15 | Wall Mount Bracket ...</td>\n",
       "    </tr>\n",
       "    <tr>\n",
       "      <th>2233068</th>\n",
       "      <td>2000.000000</td>\n",
       "      <td>Skyjacker C7360SP Component Box For PN[C7360PK...</td>\n",
       "    </tr>\n",
       "  </tbody>\n",
       "</table>\n",
       "<p>2233069 rows × 2 columns</p>\n",
       "</div>"
      ],
      "text/plain": [
       "         PRODUCT_LENGTH                                               text\n",
       "0           2125.980000  ArtzFolio Tulip Flowers Blackout Curtain for D...\n",
       "1            393.700000  Marks & Spencer Girls' Pyjama Sets T86_2561C_N...\n",
       "2            748.031495  PRIKNIK Horn Red Electric Air Horn Compressor ...\n",
       "3            787.401574  ALISHAH Women's Cotton Ankle Length Leggings C...\n",
       "4            598.424000  The United Empire Loyalists: A Chronicle of th...\n",
       "...                 ...                                                ...\n",
       "2233064     1181.100000  Nike Women's As W Ny Df Swsh Hn Kh Bra (CZ7610...\n",
       "2233065      125.984252  (3PCS) Goose Game Cute Cartoon Enamel Pins, Fu...\n",
       "2233066     1200.000000  Kangroo Sweep Movement Printed Wooden Wall Clo...\n",
       "2233067     2900.000000  Electro Voice EKX-BRKT15 | Wall Mount Bracket ...\n",
       "2233068     2000.000000  Skyjacker C7360SP Component Box For PN[C7360PK...\n",
       "\n",
       "[2233069 rows x 2 columns]"
      ]
     },
     "execution_count": 5,
     "metadata": {},
     "output_type": "execute_result"
    }
   ],
   "source": [
    "train_df"
   ]
  },
  {
   "cell_type": "code",
   "execution_count": 6,
   "metadata": {},
   "outputs": [],
   "source": [
    "X=train_df['text']"
   ]
  },
  {
   "cell_type": "code",
   "execution_count": 7,
   "metadata": {},
   "outputs": [],
   "source": [
    "y=train_df['PRODUCT_LENGTH']"
   ]
  },
  {
   "cell_type": "code",
   "execution_count": 8,
   "metadata": {},
   "outputs": [],
   "source": [
    "#split the data into train and test sets\n",
    "X_train, X_test, y_train, y_test = train_test_split(X, y, test_size=0.3, random_state=42)"
   ]
  },
  {
   "cell_type": "code",
   "execution_count": 9,
   "metadata": {},
   "outputs": [
    {
     "name": "stdout",
     "output_type": "stream",
     "text": [
      "(1563148,)\n",
      "(669921,)\n",
      "(1563148,)\n",
      "(669921,)\n"
     ]
    }
   ],
   "source": [
    "#check shapes of train and test sets\n",
    "print(X_train.shape)\n",
    "print(X_test.shape)\n",
    "print(y_train.shape)\n",
    "print(y_test.shape)"
   ]
  },
  {
   "cell_type": "code",
   "execution_count": 10,
   "metadata": {},
   "outputs": [],
   "source": [
    "import autokeras\n",
    "from autokeras import TextRegressor\n",
    "text_reg = TextRegressor(overwrite=True, max_trials=1)"
   ]
  },
  {
   "cell_type": "code",
   "execution_count": 11,
   "metadata": {},
   "outputs": [],
   "source": [
    "#convert the X_train and X_test to numpy arrays\n",
    "X_train = np.array(X_train)\n",
    "X_test = np.array(X_test)"
   ]
  },
  {
   "cell_type": "code",
   "execution_count": 12,
   "metadata": {},
   "outputs": [
    {
     "name": "stdout",
     "output_type": "stream",
     "text": [
      "Trial 1 Complete [00h 39m 56s]\n",
      "val_loss: 27557863424.0\n",
      "\n",
      "Best val_loss So Far: 27557863424.0\n",
      "Total elapsed time: 00h 39m 56s\n",
      "INFO:tensorflow:Oracle triggered exit\n",
      "Epoch 1/4\n",
      "48849/48849 [==============================] - 741s 15ms/step - loss: 2349106724864.0000 - mean_squared_error: 2349106724864.0000\n",
      "Epoch 2/4\n",
      "48849/48849 [==============================] - 763s 16ms/step - loss: 2349025460224.0000 - mean_squared_error: 2349025460224.0000\n",
      "Epoch 3/4\n",
      "48849/48849 [==============================] - 1006s 21ms/step - loss: 2349008683008.0000 - mean_squared_error: 2349008683008.0000\n",
      "Epoch 4/4\n",
      "48849/48849 [==============================] - 1105s 23ms/step - loss: 2348973031424.0000 - mean_squared_error: 2348973031424.0000\n"
     ]
    },
    {
     "name": "stderr",
     "output_type": "stream",
     "text": [
      "WARNING:absl:Found untraced functions such as _jit_compiled_convolution_op, _jit_compiled_convolution_op, _jit_compiled_convolution_op, _jit_compiled_convolution_op while saving (showing 4 of 4). These functions will not be directly callable after loading.\n"
     ]
    },
    {
     "name": "stdout",
     "output_type": "stream",
     "text": [
      "INFO:tensorflow:Assets written to: .\\text_regressor\\best_model\\assets\n"
     ]
    },
    {
     "name": "stderr",
     "output_type": "stream",
     "text": [
      "INFO:tensorflow:Assets written to: .\\text_regressor\\best_model\\assets\n"
     ]
    },
    {
     "data": {
      "text/plain": [
       "<keras.callbacks.History at 0x1b39e942080>"
      ]
     },
     "execution_count": 12,
     "metadata": {},
     "output_type": "execute_result"
    }
   ],
   "source": [
    "text_reg.fit(X_train, y_train, epochs=4)"
   ]
  },
  {
   "cell_type": "code",
   "execution_count": 13,
   "metadata": {},
   "outputs": [],
   "source": [
    "model = text_reg.export_model()"
   ]
  },
  {
   "cell_type": "code",
   "execution_count": 14,
   "metadata": {},
   "outputs": [
    {
     "name": "stderr",
     "output_type": "stream",
     "text": [
      "WARNING:absl:Found untraced functions such as _jit_compiled_convolution_op, _jit_compiled_convolution_op, _jit_compiled_convolution_op, _jit_compiled_convolution_op while saving (showing 4 of 4). These functions will not be directly callable after loading.\n"
     ]
    },
    {
     "name": "stdout",
     "output_type": "stream",
     "text": [
      "INFO:tensorflow:Assets written to: model_autokeras\\assets\n"
     ]
    },
    {
     "name": "stderr",
     "output_type": "stream",
     "text": [
      "INFO:tensorflow:Assets written to: model_autokeras\\assets\n"
     ]
    }
   ],
   "source": [
    "try:\n",
    "    model.save(\"model_autokeras\", save_format=\"tf\")\n",
    "except Exception:\n",
    "    model.save(\"model_autokeras.h5\")"
   ]
  },
  {
   "cell_type": "code",
   "execution_count": 18,
   "metadata": {},
   "outputs": [],
   "source": [
    "v_df=pd.read_csv('../dataset/test_processed.csv')"
   ]
  },
  {
   "cell_type": "code",
   "execution_count": 19,
   "metadata": {},
   "outputs": [
    {
     "data": {
      "text/html": [
       "<div>\n",
       "<style scoped>\n",
       "    .dataframe tbody tr th:only-of-type {\n",
       "        vertical-align: middle;\n",
       "    }\n",
       "\n",
       "    .dataframe tbody tr th {\n",
       "        vertical-align: top;\n",
       "    }\n",
       "\n",
       "    .dataframe thead th {\n",
       "        text-align: right;\n",
       "    }\n",
       "</style>\n",
       "<table border=\"1\" class=\"dataframe\">\n",
       "  <thead>\n",
       "    <tr style=\"text-align: right;\">\n",
       "      <th></th>\n",
       "      <th>PRODUCT_TYPE_ID</th>\n",
       "      <th>text</th>\n",
       "    </tr>\n",
       "  </thead>\n",
       "  <tbody>\n",
       "    <tr>\n",
       "      <th>0</th>\n",
       "      <td>6142</td>\n",
       "      <td>Manuel d'Héliogravure Et de Photogravure En Re...</td>\n",
       "    </tr>\n",
       "    <tr>\n",
       "      <th>1</th>\n",
       "      <td>1622</td>\n",
       "      <td>DCGARING Microfiber Throw Blanket Warm Fuzzy P...</td>\n",
       "    </tr>\n",
       "    <tr>\n",
       "      <th>2</th>\n",
       "      <td>7540</td>\n",
       "      <td>I-Match Auto Parts Front License Plate Bracket...</td>\n",
       "    </tr>\n",
       "    <tr>\n",
       "      <th>3</th>\n",
       "      <td>12442</td>\n",
       "      <td>PinMart Gold Plated Excellence in Service 1 Ye...</td>\n",
       "    </tr>\n",
       "    <tr>\n",
       "      <th>4</th>\n",
       "      <td>6318</td>\n",
       "      <td>Visual Mathematics, Illustrated by the TI-92 a...</td>\n",
       "    </tr>\n",
       "    <tr>\n",
       "      <th>...</th>\n",
       "      <td>...</td>\n",
       "      <td>...</td>\n",
       "    </tr>\n",
       "    <tr>\n",
       "      <th>731701</th>\n",
       "      <td>7073</td>\n",
       "      <td>Casual Canine Basic Hoodie for Dogs, 16\" Mediu...</td>\n",
       "    </tr>\n",
       "    <tr>\n",
       "      <th>731702</th>\n",
       "      <td>1</td>\n",
       "      <td>Dive Log Book: Scuba Diving Logbook for Beginn...</td>\n",
       "    </tr>\n",
       "    <tr>\n",
       "      <th>731703</th>\n",
       "      <td>10645</td>\n",
       "      <td>Axor 39135001 Citterio Widespread Faucet with ...</td>\n",
       "    </tr>\n",
       "    <tr>\n",
       "      <th>731704</th>\n",
       "      <td>12680</td>\n",
       "      <td>Caroline's Treasures BB1801DS812 Halloween Bas...</td>\n",
       "    </tr>\n",
       "    <tr>\n",
       "      <th>731705</th>\n",
       "      <td>0</td>\n",
       "      <td>Amsahr 18C1623 Lexmark X3530 Remanufactured Re...</td>\n",
       "    </tr>\n",
       "  </tbody>\n",
       "</table>\n",
       "<p>731706 rows × 2 columns</p>\n",
       "</div>"
      ],
      "text/plain": [
       "        PRODUCT_TYPE_ID                                               text\n",
       "0                  6142  Manuel d'Héliogravure Et de Photogravure En Re...\n",
       "1                  1622  DCGARING Microfiber Throw Blanket Warm Fuzzy P...\n",
       "2                  7540  I-Match Auto Parts Front License Plate Bracket...\n",
       "3                 12442  PinMart Gold Plated Excellence in Service 1 Ye...\n",
       "4                  6318  Visual Mathematics, Illustrated by the TI-92 a...\n",
       "...                 ...                                                ...\n",
       "731701             7073  Casual Canine Basic Hoodie for Dogs, 16\" Mediu...\n",
       "731702                1  Dive Log Book: Scuba Diving Logbook for Beginn...\n",
       "731703            10645  Axor 39135001 Citterio Widespread Faucet with ...\n",
       "731704            12680  Caroline's Treasures BB1801DS812 Halloween Bas...\n",
       "731705                0  Amsahr 18C1623 Lexmark X3530 Remanufactured Re...\n",
       "\n",
       "[731706 rows x 2 columns]"
      ]
     },
     "execution_count": 19,
     "metadata": {},
     "output_type": "execute_result"
    }
   ],
   "source": [
    "v_df"
   ]
  },
  {
   "cell_type": "code",
   "execution_count": 22,
   "metadata": {},
   "outputs": [
    {
     "name": "stdout",
     "output_type": "stream",
     "text": [
      "22866/22866 [==============================] - 142s 6ms/step\n"
     ]
    }
   ],
   "source": [
    "#use the model to predict the values for the v_df\n",
    "y_pred = model.predict(v_df['text'])"
   ]
  },
  {
   "cell_type": "code",
   "execution_count": null,
   "metadata": {},
   "outputs": [],
   "source": [
    "#create a submission csv file with product_length\n",
    "submission = pd.DataFrame({'PRODUCT_LENGTH': y_pred})\n",
    "submission.to_csv('submission.csv', index=False)"
   ]
  }
 ],
 "metadata": {
  "kernelspec": {
   "display_name": "Python 3.10.5 64-bit",
   "language": "python",
   "name": "python3"
  },
  "language_info": {
   "codemirror_mode": {
    "name": "ipython",
    "version": 3
   },
   "file_extension": ".py",
   "mimetype": "text/x-python",
   "name": "python",
   "nbconvert_exporter": "python",
   "pygments_lexer": "ipython3",
   "version": "3.10.5"
  },
  "orig_nbformat": 4,
  "vscode": {
   "interpreter": {
    "hash": "213524bb45a1aeaf737b1d8c77d7b8db5d425938d9dffc5f4bc6fe6dd3324700"
   }
  }
 },
 "nbformat": 4,
 "nbformat_minor": 2
}
